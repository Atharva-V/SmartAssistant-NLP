{
 "cells": [
  {
   "cell_type": "code",
   "execution_count": 1,
   "metadata": {},
   "outputs": [],
   "source": [
    "import pyttsx3\n",
    "import datetime\n",
    "from ipynb.fs.full.Time import *\n",
    "#from ipynb.fs.full.Wiki import *\n",
    "from ipynb.fs.full.Scrape import *\n",
    "import speech_recognition as sr\n",
    "import spacy\n",
    "from datetime import datetime\n",
    "import pytz\n",
    "from geograpy import places\n",
    "import socket"
   ]
  },
  {
   "cell_type": "code",
   "execution_count": 2,
   "metadata": {},
   "outputs": [],
   "source": [
    "def speak(audio):\n",
    "    engine.say(audio) \n",
    "    engine.runAndWait()"
   ]
  },
  {
   "cell_type": "code",
   "execution_count": 3,
   "metadata": {},
   "outputs": [],
   "source": [
    "def is_connected():\n",
    "    try:\n",
    "        # connect to the host -- tells us if the host is actually\n",
    "        # reachable\n",
    "        socket.create_connection((\"1.1.1.1\", 53))\n",
    "        return True\n",
    "    except OSError:\n",
    "        pass\n",
    "    return False"
   ]
  },
  {
   "cell_type": "code",
   "execution_count": 4,
   "metadata": {},
   "outputs": [],
   "source": [
    "def takeCommand_on():\n",
    "    r = sr.Recognizer()\n",
    "    with sr.Microphone() as source:\n",
    "        #r.dynamic_energy_threshold = True\n",
    "        #r.energy_threshold = 400\n",
    "        \n",
    "        #r.pause_threshold = 2\n",
    "        #r.dynamic_energy_adjustment_damping = 0.15\n",
    "        #r.adjust_for_ambient_noise(source, duration=3)\n",
    "        #r.dynamic_energy_adjustment_ratio = 1.5\n",
    "        #rec=r.record(source, duration = None, offset = None)\n",
    "        #b r.listen_in_background(source, callback) \n",
    "    \n",
    "        print(\"Please wait. Calibrating google microphone...\")  \n",
    "        # listen for 5 seconds and create the ambient noise energy level  \n",
    "        r.adjust_for_ambient_noise(source, duration=3)  \n",
    "        print(\"Say something!\")\n",
    "        \n",
    "        audio = r.listen(source)\n",
    "        try:  \n",
    "            rt=r.recognize_google(audio,language='en-in')\n",
    "            return rt\n",
    "        except sr.UnknownValueError:  \n",
    "            speak(\"Sorry I did not get that\")  \n",
    "        except sr.RequestError as e:  \n",
    "            speak(\"Sorry I did not get that\")\n"
   ]
  },
  {
   "cell_type": "code",
   "execution_count": 5,
   "metadata": {},
   "outputs": [],
   "source": [
    "def takeCommand_off():    \n",
    "    r = sr.Recognizer()  \n",
    "    with sr.Microphone() as source:  \n",
    "        print(\"Please wait. Calibrating sphinx microphone...\")  \n",
    "        # listen for 5 seconds and create the ambient noise energy level  \n",
    "        r.adjust_for_ambient_noise(source, duration=5)  \n",
    "        print(\"Say something!\")  \n",
    "        audio = r.listen(source)\n",
    "   \n",
    "        # recognize speech using Sphinx  \n",
    "        try:  \n",
    "            rt=r.recognize_sphinx(audio)\n",
    "            return rt\n",
    "        except sr.UnknownValueError:  \n",
    "            speak(\"Sorry I did not get that\")  \n",
    "        except sr.RequestError as e:  \n",
    "            speak(\"Sorry I did not get that\") "
   ]
  },
  {
   "cell_type": "code",
   "execution_count": 6,
   "metadata": {},
   "outputs": [],
   "source": [
    "def wishMe():\n",
    "    hour = int(datetime.now().hour)\n",
    "    if hour>=0 and hour<12:\n",
    "        speak(\"Good Morning boss!\")\n",
    "    elif hour>=12 and hour<18:\n",
    "        speak(\"Good Afternoon boss!\")   \n",
    "    else:\n",
    "        speak(\"Good Evening boss!\")  "
   ]
  },
  {
   "cell_type": "code",
   "execution_count": 7,
   "metadata": {},
   "outputs": [],
   "source": [
    "engine = pyttsx3.init('sapi5')\n",
    "voices = engine.getProperty('voices')\n",
    "engine.setProperty('voice', voices[0].id)\n",
    "nlp = spacy.load(\"en_core_web_lg\")\n",
    "places=[]\n",
    "nouns=[]\n",
    "lst=[]\n",
    "propn=[]\n",
    "lemmas=[]\n",
    "\n",
    "i=False"
   ]
  },
  {
   "cell_type": "code",
   "execution_count": 8,
   "metadata": {},
   "outputs": [],
   "source": [
    "def weather_check(statement):\n",
    "  weather = nlp(\"Current weather in a city\")\n",
    "  statement = nlp(statement)\n",
    "  min_similarity = 0.75"
   ]
  },
  {
   "cell_type": "code",
   "execution_count": 19,
   "metadata": {},
   "outputs": [
    {
     "name": "stdout",
     "output_type": "stream",
     "text": [
      "Enter\n",
      "who is the president of india\n",
      "who ---> who PRON WP nsubj xxx True True\n",
      "is ---> be AUX VBZ ROOT xx True True\n",
      "the ---> the DET DT det xxx True True\n",
      "president ---> president NOUN NN attr xxxx True False\n",
      "of ---> of ADP IN prep xx True True\n",
      "india ---> india NOUN NN pobj xxxx True False\n",
      "\n",
      "\n"
     ]
    }
   ],
   "source": [
    "if __name__==\"__main__\":\n",
    "    #wishMe()\n",
    "    if is_connected():\n",
    "        #rt=takeCommand_on()\n",
    "        rt=input(\"Enter\\n\")\n",
    "        online=True\n",
    "    else:\n",
    "        rt=takeCommand_off()\n",
    "        rt=input(\"Enter\\n\")\n",
    "        online=False\n",
    "        \n",
    "    #rt=input(\"Enter\\n\")#temporary\n",
    "    doc = nlp(rt)\n",
    "    for ent in doc.ents:\n",
    "        if ent.label_=='GPE':\n",
    "            places.append(ent.text)\n",
    "    for token in doc:\n",
    "        # Print the token and its part-of-speech tag\n",
    "        print(token.text,\"--->\", token.lemma_, token.pos_, token.tag_, token.dep_,token.shape_, token.is_alpha, token.is_stop)\n",
    "        t_list=[token.text, token.lemma_, token.pos_, token.tag_, token.dep_,token.shape_, token.is_alpha, token.is_stop]\n",
    "        lemmas.append(token.lemma_)\n",
    "        lst.append(t_list)        \n",
    "        if token.pos_=='PROPN':\n",
    "            propn.append(token)\n",
    "        if token.tag_=='WRB' or token.tag_=='WP':\n",
    "            i=True\n",
    "#-----------------------------------------------ONLINE SPECIFIC-----------------------------------------------------------------       \n",
    "    if i and online==True:\n",
    "        oinfo=get_when(rt)\n",
    "        if oinfo==1:\n",
    "            results = wikipedia.summary(rt, sentences =2)\n",
    "            #speak(\"According to Wikipedia\")\n",
    "            print(results)\n",
    "            speak(results)\n",
    "        \n",
    "        elif type(oinfo)==list:\n",
    "            output= oinfo[0] + oinfo[1] + \" in the year \"+ oinfo[2]\n",
    "            speak(output)\n",
    "            print(output)\n",
    "        else:\n",
    "            print(oinfo)\n",
    "            speak(oinfo)\n",
    "        print(oinfo)\n",
    "        del oinfo \n",
    "        i=False \n",
    "#-------------------------------------------------COMMON------------------------------------------------------------------------\n",
    "\n",
    "\n",
    "\n",
    "\n",
    "#--------------------------------------------------OFFLINE SPECIFIC----------------------------------------------------------------------\n",
    "    if i and online==False:\n",
    "        if 'time' in rt:\n",
    "            if places:\n",
    "                time=specific(places[0])\n",
    "            else:\n",
    "                time=local()\n",
    "            speak(time)\n",
    "            print(time)\n",
    "            i=False\n",
    "\n",
    "    lst.clear() \n",
    "    lemmas.clear()"
   ]
  },
  {
   "cell_type": "code",
   "execution_count": 18,
   "metadata": {},
   "outputs": [
    {
     "ename": "NameError",
     "evalue": "name 'oinfo' is not defined",
     "output_type": "error",
     "traceback": [
      "\u001b[1;31m---------------------------------------------------------------------------\u001b[0m",
      "\u001b[1;31mNameError\u001b[0m                                 Traceback (most recent call last)",
      "\u001b[1;32m<ipython-input-18-b989dafe5430>\u001b[0m in \u001b[0;36m<module>\u001b[1;34m\u001b[0m\n\u001b[1;32m----> 1\u001b[1;33m \u001b[0mprint\u001b[0m\u001b[1;33m(\u001b[0m\u001b[0moinfo\u001b[0m\u001b[1;33m)\u001b[0m\u001b[1;33m\u001b[0m\u001b[1;33m\u001b[0m\u001b[0m\n\u001b[0m",
      "\u001b[1;31mNameError\u001b[0m: name 'oinfo' is not defined"
     ]
    }
   ],
   "source": [
    "\n"
   ]
  },
  {
   "cell_type": "code",
   "execution_count": null,
   "metadata": {},
   "outputs": [],
   "source": []
  }
 ],
 "metadata": {
  "kernelspec": {
   "display_name": "Python 3",
   "language": "python",
   "name": "python3"
  },
  "language_info": {
   "codemirror_mode": {
    "name": "ipython",
    "version": 3
   },
   "file_extension": ".py",
   "mimetype": "text/x-python",
   "name": "python",
   "nbconvert_exporter": "python",
   "pygments_lexer": "ipython3",
   "version": "3.8.5"
  }
 },
 "nbformat": 4,
 "nbformat_minor": 4
}
